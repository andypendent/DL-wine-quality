{
 "cells": [
  {
   "cell_type": "code",
   "execution_count": 1,
   "metadata": {},
   "outputs": [],
   "source": [
    "# import libraries\n",
    "from collections import Counter\n",
    "import pandas as pd\n",
    "import numpy as np\n",
    "import torch\n",
    "from sklearn.model_selection import train_test_split\n",
    "from imblearn.over_sampling import SMOTE, ADASYN\n",
    "import seaborn as sns\n",
    "import matplotlib.pyplot as plt\n",
    "\n",
    "%matplotlib inline"
   ]
  },
  {
   "cell_type": "code",
   "execution_count": 2,
   "metadata": {},
   "outputs": [
    {
     "data": {
      "text/html": [
       "<div>\n",
       "<style scoped>\n",
       "    .dataframe tbody tr th:only-of-type {\n",
       "        vertical-align: middle;\n",
       "    }\n",
       "\n",
       "    .dataframe tbody tr th {\n",
       "        vertical-align: top;\n",
       "    }\n",
       "\n",
       "    .dataframe thead th {\n",
       "        text-align: right;\n",
       "    }\n",
       "</style>\n",
       "<table border=\"1\" class=\"dataframe\">\n",
       "  <thead>\n",
       "    <tr style=\"text-align: right;\">\n",
       "      <th></th>\n",
       "      <th>fixed acidity</th>\n",
       "      <th>volatile acidity</th>\n",
       "      <th>citric acid</th>\n",
       "      <th>residual sugar</th>\n",
       "      <th>chlorides</th>\n",
       "      <th>free sulfur dioxide</th>\n",
       "      <th>total sulfur dioxide</th>\n",
       "      <th>density</th>\n",
       "      <th>pH</th>\n",
       "      <th>sulphates</th>\n",
       "      <th>alcohol</th>\n",
       "      <th>quality</th>\n",
       "    </tr>\n",
       "  </thead>\n",
       "  <tbody>\n",
       "    <tr>\n",
       "      <th>0</th>\n",
       "      <td>7.4</td>\n",
       "      <td>0.70</td>\n",
       "      <td>0.00</td>\n",
       "      <td>1.9</td>\n",
       "      <td>0.076</td>\n",
       "      <td>11.0</td>\n",
       "      <td>34.0</td>\n",
       "      <td>0.9978</td>\n",
       "      <td>3.51</td>\n",
       "      <td>0.56</td>\n",
       "      <td>9.4</td>\n",
       "      <td>5</td>\n",
       "    </tr>\n",
       "    <tr>\n",
       "      <th>1</th>\n",
       "      <td>7.8</td>\n",
       "      <td>0.88</td>\n",
       "      <td>0.00</td>\n",
       "      <td>2.6</td>\n",
       "      <td>0.098</td>\n",
       "      <td>25.0</td>\n",
       "      <td>67.0</td>\n",
       "      <td>0.9968</td>\n",
       "      <td>3.20</td>\n",
       "      <td>0.68</td>\n",
       "      <td>9.8</td>\n",
       "      <td>5</td>\n",
       "    </tr>\n",
       "    <tr>\n",
       "      <th>2</th>\n",
       "      <td>7.8</td>\n",
       "      <td>0.76</td>\n",
       "      <td>0.04</td>\n",
       "      <td>2.3</td>\n",
       "      <td>0.092</td>\n",
       "      <td>15.0</td>\n",
       "      <td>54.0</td>\n",
       "      <td>0.9970</td>\n",
       "      <td>3.26</td>\n",
       "      <td>0.65</td>\n",
       "      <td>9.8</td>\n",
       "      <td>5</td>\n",
       "    </tr>\n",
       "    <tr>\n",
       "      <th>3</th>\n",
       "      <td>11.2</td>\n",
       "      <td>0.28</td>\n",
       "      <td>0.56</td>\n",
       "      <td>1.9</td>\n",
       "      <td>0.075</td>\n",
       "      <td>17.0</td>\n",
       "      <td>60.0</td>\n",
       "      <td>0.9980</td>\n",
       "      <td>3.16</td>\n",
       "      <td>0.58</td>\n",
       "      <td>9.8</td>\n",
       "      <td>6</td>\n",
       "    </tr>\n",
       "    <tr>\n",
       "      <th>4</th>\n",
       "      <td>7.4</td>\n",
       "      <td>0.70</td>\n",
       "      <td>0.00</td>\n",
       "      <td>1.9</td>\n",
       "      <td>0.076</td>\n",
       "      <td>11.0</td>\n",
       "      <td>34.0</td>\n",
       "      <td>0.9978</td>\n",
       "      <td>3.51</td>\n",
       "      <td>0.56</td>\n",
       "      <td>9.4</td>\n",
       "      <td>5</td>\n",
       "    </tr>\n",
       "  </tbody>\n",
       "</table>\n",
       "</div>"
      ],
      "text/plain": [
       "   fixed acidity  volatile acidity  citric acid  residual sugar  chlorides  \\\n",
       "0            7.4              0.70         0.00             1.9      0.076   \n",
       "1            7.8              0.88         0.00             2.6      0.098   \n",
       "2            7.8              0.76         0.04             2.3      0.092   \n",
       "3           11.2              0.28         0.56             1.9      0.075   \n",
       "4            7.4              0.70         0.00             1.9      0.076   \n",
       "\n",
       "   free sulfur dioxide  total sulfur dioxide  density    pH  sulphates  \\\n",
       "0                 11.0                  34.0   0.9978  3.51       0.56   \n",
       "1                 25.0                  67.0   0.9968  3.20       0.68   \n",
       "2                 15.0                  54.0   0.9970  3.26       0.65   \n",
       "3                 17.0                  60.0   0.9980  3.16       0.58   \n",
       "4                 11.0                  34.0   0.9978  3.51       0.56   \n",
       "\n",
       "   alcohol  quality  \n",
       "0      9.4        5  \n",
       "1      9.8        5  \n",
       "2      9.8        5  \n",
       "3      9.8        6  \n",
       "4      9.4        5  "
      ]
     },
     "execution_count": 2,
     "metadata": {},
     "output_type": "execute_result"
    }
   ],
   "source": [
    "# load dataset\n",
    "path = '/Users/Andy/Documents/_BeCode/becode_projects/DL-wine-quality/Wine Quality/wine.csv'\n",
    "df = pd.read_csv(path)\n",
    "df = df.drop(['index'],axis=1)\n",
    "df.head()"
   ]
  },
  {
   "cell_type": "code",
   "execution_count": 3,
   "metadata": {},
   "outputs": [
    {
     "data": {
      "text/plain": [
       "(6497, 12)"
      ]
     },
     "execution_count": 3,
     "metadata": {},
     "output_type": "execute_result"
    }
   ],
   "source": [
    "df.shape"
   ]
  },
  {
   "cell_type": "code",
   "execution_count": 4,
   "metadata": {},
   "outputs": [
    {
     "name": "stdout",
     "output_type": "stream",
     "text": [
      "(6497, 11) (6497,)\n"
     ]
    }
   ],
   "source": [
    "# create feature and target Data\n",
    "# Input 'X' is all but the last column\n",
    "# Output 'y' is the last column = 'quality'\n",
    "\n",
    "X = df.iloc[:, 0:-1]\n",
    "y = df.iloc[:, -1]\n",
    "\n",
    "print(X.shape, y.shape)"
   ]
  },
  {
   "cell_type": "code",
   "execution_count": 5,
   "metadata": {},
   "outputs": [
    {
     "name": "stdout",
     "output_type": "stream",
     "text": [
      "(5197, 11)\n",
      "(1300, 11)\n",
      "(5197,)\n",
      "(1300,)\n"
     ]
    }
   ],
   "source": [
    "# split into train and test\n",
    "# => Because there’s a class imbalance,\n",
    "# we want to have equal distribution of all output classes in our train and test sets.\n",
    "# To do that, we use the 'stratify' option in function 'train_test_split()'\n",
    "# 'one hot' encode y pd.get_dummies\n",
    "\n",
    "X_train, X_test, y_train, y_test = train_test_split(X, y, test_size=0.2, stratify=y, random_state=69)\n",
    "\n",
    "print(X_train.shape)\n",
    "print(X_test.shape)\n",
    "print(y_train.shape)\n",
    "print(y_test.shape)"
   ]
  },
  {
   "cell_type": "code",
   "execution_count": 6,
   "metadata": {},
   "outputs": [
    {
     "name": "stdout",
     "output_type": "stream",
     "text": [
      "y_test: Counter({6: 567, 5: 428, 7: 216, 4: 43, 8: 39, 3: 6, 9: 1})\n",
      "y_train: Counter({6: 2269, 5: 1710, 7: 863, 4: 173, 8: 154, 3: 24, 9: 4})\n"
     ]
    }
   ],
   "source": [
    "# nbr of samples per class in y_train, y_test\n",
    "print(f'y_test: {Counter(y_test)}')\n",
    "print(f'y_train: {Counter(y_train)}')"
   ]
  },
  {
   "cell_type": "code",
   "execution_count": 7,
   "metadata": {},
   "outputs": [
    {
     "data": {
      "text/plain": [
       "(      3  4  5  6  7  8  9\n",
       " 2811  0  0  0  1  0  0  0\n",
       " 1284  0  0  1  0  0  0  0\n",
       " 943   0  0  0  0  1  0  0\n",
       " 4525  0  0  0  0  0  1  0\n",
       " 5779  0  0  0  1  0  0  0\n",
       " ...  .. .. .. .. .. .. ..\n",
       " 2713  0  1  0  0  0  0  0\n",
       " 875   0  0  0  0  1  0  0\n",
       " 1612  0  0  0  0  1  0  0\n",
       " 1732  0  0  1  0  0  0  0\n",
       " 5313  0  1  0  0  0  0  0\n",
       " \n",
       " [5197 rows x 7 columns],\n",
       "       3  4  5  6  7  8  9\n",
       " 475   0  0  1  0  0  0  0\n",
       " 4459  0  0  0  1  0  0  0\n",
       " 2245  0  1  0  0  0  0  0\n",
       " 5487  0  0  0  1  0  0  0\n",
       " 5410  0  0  1  0  0  0  0\n",
       " ...  .. .. .. .. .. .. ..\n",
       " 2399  0  0  0  1  0  0  0\n",
       " 2636  0  0  1  0  0  0  0\n",
       " 5652  0  0  0  0  1  0  0\n",
       " 2022  0  0  0  1  0  0  0\n",
       " 4947  0  0  0  1  0  0  0\n",
       " \n",
       " [1300 rows x 7 columns])"
      ]
     },
     "execution_count": 7,
     "metadata": {},
     "output_type": "execute_result"
    }
   ],
   "source": [
    "# 'one hot' encode y_train_res, y_test\n",
    "y_train = pd.get_dummies(y_train)\n",
    "y_test = pd.get_dummies(y_test)\n",
    "y_train, y_test"
   ]
  },
  {
   "cell_type": "code",
   "execution_count": 8,
   "metadata": {},
   "outputs": [],
   "source": [
    "# transform X_train, y_train and their test counterparts into pytorch tensors using torch.tensor()\n",
    "# => before convert to np.array()\n",
    "# make sure to convert them to float\n",
    "\n",
    "X_train = torch.tensor(np.array(X_train), dtype=torch.float64)\n",
    "y_train = torch.tensor(np.array(y_train), dtype=torch.float64)\n",
    "X_test = torch.tensor(np.array(X_test), dtype=torch.float64)\n",
    "y_test = torch.tensor(np.array(y_test), dtype=torch.float64)"
   ]
  },
  {
   "cell_type": "code",
   "execution_count": 9,
   "metadata": {},
   "outputs": [
    {
     "data": {
      "text/plain": [
       "tensor([[7.6000e+00, 3.2000e-01, 3.6000e-01, 1.6000e+00, 4.0000e-02, 3.2000e+01,\n",
       "         1.5500e+02, 9.9300e-01, 3.2300e+00, 5.2000e-01, 1.1300e+01],\n",
       "        [7.0000e+00, 4.2000e-01, 1.9000e-01, 2.3000e+00, 7.1000e-02, 1.8000e+01,\n",
       "         3.6000e+01, 9.9476e-01, 3.3900e+00, 5.6000e-01, 1.0900e+01],\n",
       "        [9.8000e+00, 5.0000e-01, 3.4000e-01, 2.3000e+00, 9.4000e-02, 1.0000e+01,\n",
       "         4.5000e+01, 9.9864e-01, 3.2400e+00, 6.0000e-01, 9.7000e+00],\n",
       "        [5.2000e+00, 1.5500e-01, 3.3000e-01, 1.6000e+00, 2.8000e-02, 1.3000e+01,\n",
       "         5.9000e+01, 9.8975e-01, 3.3000e+00, 8.4000e-01, 1.1900e+01],\n",
       "        [6.5000e+00, 3.1000e-01, 6.1000e-01, 1.3000e+01, 5.3000e-02, 3.1000e+01,\n",
       "         1.2300e+02, 9.9708e-01, 3.0900e+00, 5.0000e-01, 9.3000e+00]],\n",
       "       dtype=torch.float64)"
      ]
     },
     "execution_count": 9,
     "metadata": {},
     "output_type": "execute_result"
    }
   ],
   "source": [
    "X_train[:5]"
   ]
  },
  {
   "cell_type": "code",
   "execution_count": 10,
   "metadata": {},
   "outputs": [
    {
     "data": {
      "text/plain": [
       "tensor([[0., 0., 0., 1., 0., 0., 0.],\n",
       "        [0., 0., 1., 0., 0., 0., 0.],\n",
       "        [0., 0., 0., 0., 1., 0., 0.],\n",
       "        [0., 0., 0., 0., 0., 1., 0.],\n",
       "        [0., 0., 0., 1., 0., 0., 0.]], dtype=torch.float64)"
      ]
     },
     "execution_count": 10,
     "metadata": {},
     "output_type": "execute_result"
    }
   ],
   "source": [
    "y_train[:5]"
   ]
  },
  {
   "cell_type": "code",
   "execution_count": null,
   "metadata": {},
   "outputs": [],
   "source": []
  },
  {
   "cell_type": "code",
   "execution_count": 11,
   "metadata": {},
   "outputs": [
    {
     "data": {
      "text/plain": [
       "(7, 11)"
      ]
     },
     "execution_count": 11,
     "metadata": {},
     "output_type": "execute_result"
    }
   ],
   "source": [
    "# define NN params\n",
    "nb_hidden_neurons = 144\n",
    "nb_classes = len(pd.unique(df['quality']))\n",
    "nb_features = X_train.shape[1]\n",
    "nb_classes, nb_features"
   ]
  },
  {
   "cell_type": "code",
   "execution_count": 12,
   "metadata": {},
   "outputs": [],
   "source": [
    "# create NN architecture\n",
    "\n",
    "import torch.nn as nn\n",
    "\n",
    "class Network(nn.Module):\n",
    "\n",
    "    def __init__(self, nb_features):\n",
    "        \"\"\"Here we define the layers\n",
    "        \"\"\"\n",
    "\n",
    "        super().__init__()\n",
    "        # class torch.nn.Linear(in_features: int, out_features: int, bias: bool = True = default)\n",
    "        \n",
    "        self.layer_1 = nn.Linear(nb_features, nb_hidden_neurons)  \n",
    "        self.layer_2 = nn.Linear(nb_hidden_neurons, nb_hidden_neurons)\n",
    "        self.layer_3 = nn.Linear(nb_hidden_neurons, nb_classes)\n",
    "           \n",
    "\n",
    "    def forward(self,x):\n",
    "        \"\"\"Here we combine the layers\n",
    "        \"\"\"\n",
    "        \n",
    "        activation_function = nn.ReLU()\n",
    "        last_layer_activation = nn.Softmax(dim=1)\n",
    "        \n",
    "        output_first_layer = activation_function(self.layer_1(x)) \n",
    "        output_second_layer = activation_function(self.layer_2(output_first_layer))\n",
    "        prediction = last_layer_activation(self.layer_3(output_second_layer))\n",
    "        \n",
    "        return prediction"
   ]
  },
  {
   "cell_type": "code",
   "execution_count": 13,
   "metadata": {},
   "outputs": [
    {
     "data": {
      "text/plain": [
       "Network(\n",
       "  (layer_1): Linear(in_features=11, out_features=144, bias=True)\n",
       "  (layer_2): Linear(in_features=144, out_features=144, bias=True)\n",
       "  (layer_3): Linear(in_features=144, out_features=7, bias=True)\n",
       ")"
      ]
     },
     "execution_count": 13,
     "metadata": {},
     "output_type": "execute_result"
    }
   ],
   "source": [
    "my_nn = Network(nb_features)\n",
    "my_nn"
   ]
  },
  {
   "cell_type": "code",
   "execution_count": 14,
   "metadata": {},
   "outputs": [
    {
     "name": "stdout",
     "output_type": "stream",
     "text": [
      "MSELoss() 0.001 Adam (\n",
      "Parameter Group 0\n",
      "    amsgrad: False\n",
      "    betas: (0.9, 0.999)\n",
      "    eps: 1e-08\n",
      "    lr: 0.001\n",
      "    weight_decay: 0\n",
      ")\n"
     ]
    }
   ],
   "source": [
    "# Select your criterion, your learning rate and your optimizer.\n",
    "criterion = nn.MSELoss()\n",
    "learning_rate = 0.001 \n",
    "optimizer = torch.optim.Adam(my_nn.parameters(), learning_rate)\n",
    "\n",
    "print(criterion, learning_rate, optimizer)"
   ]
  },
  {
   "cell_type": "code",
   "execution_count": 15,
   "metadata": {},
   "outputs": [],
   "source": [
    "# train NN\n",
    "\n",
    "def training(batch_size : int, nb_steps_loss_sum : int):\n",
    "    \"\"\" Train the neural network, feeding it `batch_size` at a time\n",
    "    and saving statistics every `nb_steps_loss_sum` steps.\n",
    "    \n",
    "    Arguments:\n",
    "    \n",
    "    - batch_size [int] : the number of input samples at each training step (called a batch)\n",
    "    - nb_steps_loss_sum [int] : the number of batches before saving the loss for plotting\n",
    "    \n",
    "    Returns:\n",
    "    - loss_list : [List[double]] : value of the loss every `nb_steps_loss_sum` steps\n",
    "    \"\"\"\n",
    "\n",
    "    loss_list = []\n",
    "    running_loss = 0\n",
    "    batch_nb = 0\n",
    "\n",
    "    for epoch in range(0,10): # Number of times to iterate through the complete dataset\n",
    "        for idx in range(0, X_train.shape[0], batch_size):\n",
    "            \n",
    "            # Get input and output\n",
    "            input_batch = X_train[idx:idx + batch_size]\n",
    "            target = y_train[idx:idx + batch_size]\n",
    "            \n",
    "            # TO COMPLETE:\n",
    "            # - zero gradient buffers\n",
    "            optimizer.zero_grad()\n",
    "            \n",
    "            # - compute the forward pass\n",
    "            y_pred = my_nn(input_batch.float())\n",
    "            \n",
    "            # - compute the loss\n",
    "            loss = criterion(y_pred, target.float())\n",
    "            \n",
    "            # - backpropagate\n",
    "            loss.backward()\n",
    "            \n",
    "            # - do a step => update gradients\n",
    "            optimizer.step()\n",
    "          \n",
    "            \n",
    "            # Save the loss every `running_loss_steps` batches\n",
    "            running_loss += loss.item()\n",
    "            save_loss_condition = batch_nb % nb_steps_loss_sum == (nb_steps_loss_sum - 1)\n",
    "            if save_loss_condition:    \n",
    "                loss_list.append(running_loss)\n",
    "                running_loss = 0.0\n",
    "\n",
    "\n",
    "            batch_nb += 1\n",
    "        \n",
    "    return loss_list"
   ]
  },
  {
   "cell_type": "code",
   "execution_count": 16,
   "metadata": {},
   "outputs": [
    {
     "data": {
      "image/png": "[encoded data removed]",
      "text/plain": [
       "<Figure size 432x288 with 1 Axes>"
      ]
     },
     "metadata": {
      "needs_background": "light"
     },
     "output_type": "display_data"
    }
   ],
   "source": [
    "nb_steps_loss_sum = 10\n",
    "batch_size = 10\n",
    "\n",
    "loss = training(batch_size=batch_size, nb_steps_loss_sum=nb_steps_loss_sum)\n",
    "\n",
    "# Plotting the loss over training\n",
    "plt.figure()\n",
    "plt.plot(range(0, len(loss)), loss)\n",
    "plt.xlabel(f\"Batches/{nb_steps_loss_sum}\")\n",
    "plt.ylabel(\"Loss\")\n",
    "plt.title(\"Training loss\")\n",
    "plt.show()\n",
    "plt.close()"
   ]
  },
  {
   "cell_type": "code",
   "execution_count": 17,
   "metadata": {},
   "outputs": [],
   "source": [
    "# compute the NN accuracy\n",
    "def computeScore(X, y):\n",
    "    \n",
    "    correct = 0\n",
    "    total = 0\n",
    "    batch_size = 10\n",
    "    \n",
    "    with torch.no_grad():\n",
    "        for idx in range(0, X.shape[0], batch_size):\n",
    "            # TO COMPLETE:\n",
    "            # - get the `batch_size` number of input samples\n",
    "            input_batch = X[idx:idx + batch_size]\n",
    "            target = y[idx:idx + batch_size]\n",
    "            \n",
    "            # - compute the prediction of the neural network\n",
    "            y_pred = my_nn(input_batch.float())\n",
    "            \n",
    "            # - get the max of the prediction (e.g. get the most likely class)\n",
    "            # This can be done using 'torch.max'\n",
    "            y_pred_max = torch.max(y_pred, 1).indices\n",
    "            \n",
    "            # - get the max of the target (e.g. correct class)\n",
    "            target_max = torch.max(target, 1).indices\n",
    "            \n",
    "            # - check if the prediction is correct and count it\n",
    "            correct += (y_pred_max == target_max).sum().item()\n",
    "            \n",
    "            # - count every sample\n",
    "            total += y_pred.size(0)   #.sum().item()\n",
    "            \n",
    "    accuracy = correct/total * 100\n",
    "    \n",
    "    print(y_pred, target)\n",
    "    print(y_pred_max, target_max)\n",
    "    print(correct, total)\n",
    "    \n",
    "    print(f'Accuracy of the network on the {total} samples: {accuracy:.2f}%')"
   ]
  },
  {
   "cell_type": "code",
   "execution_count": 18,
   "metadata": {},
   "outputs": [
    {
     "name": "stdout",
     "output_type": "stream",
     "text": [
      "tensor([[6.4459e-03, 8.3336e-02, 3.7020e-01, 4.0931e-01, 1.0568e-01, 2.1230e-02,\n",
      "         3.7916e-03],\n",
      "        [3.6694e-04, 1.5674e-02, 3.8798e-01, 5.2418e-01, 6.2157e-02, 9.3701e-03,\n",
      "         2.7232e-04],\n",
      "        [1.0508e-02, 1.5962e-01, 4.7860e-01, 3.0724e-01, 3.7459e-02, 3.8133e-03,\n",
      "         2.7566e-03],\n",
      "        [1.0180e-02, 3.4016e-02, 1.2933e-01, 4.2758e-01, 3.5600e-01, 3.5792e-02,\n",
      "         7.1144e-03],\n",
      "        [8.1477e-06, 1.1962e-03, 5.1437e-02, 5.1039e-01, 3.8643e-01, 5.0512e-02,\n",
      "         2.0551e-05],\n",
      "        [7.3987e-04, 1.7672e-02, 3.9463e-01, 5.1084e-01, 6.3840e-02, 1.1606e-02,\n",
      "         6.6608e-04],\n",
      "        [2.0339e-04, 1.2341e-02, 3.1791e-01, 5.4066e-01, 1.2258e-01, 6.2384e-03,\n",
      "         6.5914e-05]]) tensor([[0., 0., 1., 0., 0., 0., 0.],\n",
      "        [0., 0., 0., 1., 0., 0., 0.],\n",
      "        [0., 1., 0., 0., 0., 0., 0.],\n",
      "        [0., 0., 0., 0., 1., 0., 0.],\n",
      "        [0., 0., 0., 0., 1., 0., 0.],\n",
      "        [0., 0., 1., 0., 0., 0., 0.],\n",
      "        [0., 1., 0., 0., 0., 0., 0.]], dtype=torch.float64)\n",
      "tensor([3, 3, 2, 3, 3, 3, 3]) tensor([2, 3, 1, 4, 4, 2, 1])\n",
      "2666 5197\n",
      "Accuracy of the network on the 5197 samples: 51.30%\n",
      "tensor([[2.4805e-03, 3.4379e-02, 5.1500e-01, 4.0520e-01, 4.0102e-02, 2.4192e-03,\n",
      "         4.2415e-04],\n",
      "        [4.7156e-04, 1.4816e-02, 4.2597e-01, 4.9246e-01, 5.4588e-02, 1.1327e-02,\n",
      "         3.6405e-04],\n",
      "        [2.6350e-03, 3.4408e-02, 3.8567e-01, 4.8233e-01, 7.6731e-02, 1.5538e-02,\n",
      "         2.6914e-03],\n",
      "        [8.8435e-05, 3.7065e-03, 1.2219e-01, 5.6777e-01, 2.6837e-01, 3.7772e-02,\n",
      "         1.0278e-04],\n",
      "        [1.1398e-03, 2.0119e-02, 2.5609e-01, 5.3431e-01, 1.6124e-01, 2.6161e-02,\n",
      "         9.4335e-04],\n",
      "        [9.1217e-04, 2.1811e-02, 4.0420e-01, 4.8182e-01, 7.4671e-02, 1.5826e-02,\n",
      "         7.5820e-04],\n",
      "        [1.0608e-02, 1.8780e-01, 4.9519e-01, 2.6510e-01, 3.0403e-02, 5.9793e-03,\n",
      "         4.9094e-03],\n",
      "        [4.1620e-03, 4.5311e-02, 3.8444e-01, 4.6099e-01, 8.2344e-02, 1.8987e-02,\n",
      "         3.7608e-03],\n",
      "        [2.1620e-04, 1.0664e-02, 3.3489e-01, 5.6688e-01, 7.6942e-02, 1.0243e-02,\n",
      "         1.6112e-04],\n",
      "        [1.1248e-02, 6.8474e-02, 1.3060e-01, 7.4063e-01, 2.7005e-02, 1.6097e-02,\n",
      "         5.9435e-03]]) tensor([[0., 0., 0., 1., 0., 0., 0.],\n",
      "        [0., 0., 0., 1., 0., 0., 0.],\n",
      "        [0., 0., 0., 1., 0., 0., 0.],\n",
      "        [0., 0., 0., 0., 0., 1., 0.],\n",
      "        [0., 0., 0., 1., 0., 0., 0.],\n",
      "        [0., 0., 0., 1., 0., 0., 0.],\n",
      "        [0., 0., 1., 0., 0., 0., 0.],\n",
      "        [0., 0., 0., 0., 1., 0., 0.],\n",
      "        [0., 0., 0., 1., 0., 0., 0.],\n",
      "        [0., 0., 0., 1., 0., 0., 0.]], dtype=torch.float64)\n",
      "tensor([2, 3, 3, 3, 3, 3, 2, 3, 3, 3]) tensor([3, 3, 3, 5, 3, 3, 2, 4, 3, 3])\n",
      "641 1300\n",
      "Accuracy of the network on the 1300 samples: 49.31%\n"
     ]
    }
   ],
   "source": [
    "computeScore(X_train, y_train)\n",
    "computeScore(X_test, y_test)"
   ]
  },
  {
   "cell_type": "code",
   "execution_count": null,
   "metadata": {},
   "outputs": [],
   "source": []
  },
  {
   "cell_type": "code",
   "execution_count": null,
   "metadata": {},
   "outputs": [],
   "source": []
  },
  {
   "cell_type": "code",
   "execution_count": null,
   "metadata": {},
   "outputs": [],
   "source": []
  },
  {
   "cell_type": "code",
   "execution_count": null,
   "metadata": {},
   "outputs": [],
   "source": []
  },
  {
   "cell_type": "code",
   "execution_count": null,
   "metadata": {},
   "outputs": [],
   "source": []
  },
  {
   "cell_type": "code",
   "execution_count": null,
   "metadata": {},
   "outputs": [],
   "source": []
  },
  {
   "cell_type": "code",
   "execution_count": null,
   "metadata": {},
   "outputs": [],
   "source": []
  },
  {
   "cell_type": "code",
   "execution_count": null,
   "metadata": {},
   "outputs": [],
   "source": []
  },
  {
   "cell_type": "code",
   "execution_count": null,
   "metadata": {},
   "outputs": [],
   "source": []
  }
 ],
 "metadata": {
  "kernelspec": {
   "display_name": "pytorch_project",
   "language": "python",
   "name": "pytorch_project"
  },
  "language_info": {
   "codemirror_mode": {
    "name": "ipython",
    "version": 3
   },
   "file_extension": ".py",
   "mimetype": "text/x-python",
   "name": "python",
   "nbconvert_exporter": "python",
   "pygments_lexer": "ipython3",
   "version": "3.7.10"
  }
 },
 "nbformat": 4,
 "nbformat_minor": 4
}
